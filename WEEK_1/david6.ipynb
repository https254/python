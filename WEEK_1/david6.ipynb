{
  "nbformat": 4,
  "nbformat_minor": 0,
  "metadata": {
    "colab": {
      "provenance": []
    },
    "kernelspec": {
      "name": "python3",
      "display_name": "Python 3"
    },
    "language_info": {
      "name": "python"
    }
  },
  "cells": [
    {
      "cell_type": "code",
      "execution_count": null,
      "metadata": {
        "colab": {
          "base_uri": "https://localhost:8080/"
        },
        "id": "WIC1VEpn_DhJ",
        "outputId": "41a02665-d358-4f26-ca54-0a11518f9f24"
      },
      "outputs": [
        {
          "output_type": "stream",
          "name": "stdout",
          "text": [
            "enter your name: david\n",
            "enter your course: python\n",
            "david\n",
            "python\n"
          ]
        }
      ],
      "source": [
        "name=input(\"enter your name: \")\n",
        "course=input(\"enter your course: \")\n",
        "print(name)\n",
        "print(course)"
      ]
    },
    {
      "cell_type": "code",
      "source": [],
      "metadata": {
        "id": "i_DPG6KV_-zG"
      },
      "execution_count": null,
      "outputs": []
    },
    {
      "cell_type": "code",
      "source": [],
      "metadata": {
        "id": "_yh7DGHy_-vx"
      },
      "execution_count": null,
      "outputs": []
    }
  ]
}